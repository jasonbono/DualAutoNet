{
 "cells": [
  {
   "cell_type": "code",
   "execution_count": 21,
   "metadata": {},
   "outputs": [],
   "source": [
    "# Import necessary libraries\n",
    "import numpy as np\n",
    "import pandas as pd\n",
    "from sklearn.model_selection import train_test_split\n",
    "from sklearn.preprocessing import StandardScaler\n",
    "from sklearn.neural_network import MLPRegressor\n",
    "from sklearn.metrics import roc_curve, auc, classification_report\n",
    "import matplotlib.pyplot as plt"
   ]
  },
  {
   "cell_type": "code",
   "execution_count": 22,
   "metadata": {},
   "outputs": [],
   "source": [
    "# Load the Breast Cancer Wisconsin dataset\n",
    "url = '../data/wdbc.data'  # Path to your data file\n",
    "columns = ['ID', 'diagnosis'] + [f'feature_{i}' for i in range(1, 31)]\n",
    "data = pd.read_csv(url, header=None, names=columns)"
   ]
  },
  {
   "cell_type": "code",
   "execution_count": 23,
   "metadata": {},
   "outputs": [],
   "source": [
    "# Preprocess the data: separate features and labels\n",
    "X = data.drop(columns=[\"ID\", \"diagnosis\"])  # Features\n",
    "y = data[\"diagnosis\"].map({'M': 1, 'B': 0})  # Labels: 1 for malignant, 0 for benign\n",
    "\n",
    "# Scale the data\n",
    "scaler = StandardScaler()\n",
    "X_scaled = scaler.fit_transform(X)  "
   ]
  },
  {
   "cell_type": "code",
   "execution_count": 24,
   "metadata": {},
   "outputs": [],
   "source": [
    "# Separate the benign (malignant) examples for training the positive (negative) autoencoder\n",
    "X_benign = X_scaled[y == 0]  # Benign examples\n",
    "X_malignant = X_scaled[y == 1]  # Malignant examples\n",
    "\n",
    "# Split benign data into train and test sets\n",
    "X_train_benign, X_test_benign = train_test_split(X_benign, test_size=0.2, random_state=42)\n",
    "\n",
    "# Split malignant data into train and test sets\n",
    "X_train_malignant, X_test_malignant = train_test_split(X_malignant, test_size=0.2, random_state=42)\n",
    "\n",
    "# combine the test sets\n",
    "X_test = np.concatenate((X_test_benign, X_test_malignant), axis=0)\n",
    "y_test = np.concatenate((np.zeros(len(X_test_benign)), np.ones(len(X_test_malignant))), axis=0)\n"
   ]
  },
  {
   "cell_type": "code",
   "execution_count": 25,
   "metadata": {},
   "outputs": [
    {
     "name": "stderr",
     "output_type": "stream",
     "text": [
      "/Users/bono/opt/miniconda3/envs/minenv/lib/python3.10/site-packages/sklearn/neural_network/_multilayer_perceptron.py:702: ConvergenceWarning: Stochastic Optimizer: Maximum iterations (200) reached and the optimization hasn't converged yet.\n",
      "  warnings.warn(\n",
      "/Users/bono/opt/miniconda3/envs/minenv/lib/python3.10/site-packages/sklearn/neural_network/_multilayer_perceptron.py:702: ConvergenceWarning: Stochastic Optimizer: Maximum iterations (200) reached and the optimization hasn't converged yet.\n",
      "  warnings.warn(\n"
     ]
    },
    {
     "data": {
      "text/html": [
       "<style>#sk-container-id-2 {color: black;background-color: white;}#sk-container-id-2 pre{padding: 0;}#sk-container-id-2 div.sk-toggleable {background-color: white;}#sk-container-id-2 label.sk-toggleable__label {cursor: pointer;display: block;width: 100%;margin-bottom: 0;padding: 0.3em;box-sizing: border-box;text-align: center;}#sk-container-id-2 label.sk-toggleable__label-arrow:before {content: \"▸\";float: left;margin-right: 0.25em;color: #696969;}#sk-container-id-2 label.sk-toggleable__label-arrow:hover:before {color: black;}#sk-container-id-2 div.sk-estimator:hover label.sk-toggleable__label-arrow:before {color: black;}#sk-container-id-2 div.sk-toggleable__content {max-height: 0;max-width: 0;overflow: hidden;text-align: left;background-color: #f0f8ff;}#sk-container-id-2 div.sk-toggleable__content pre {margin: 0.2em;color: black;border-radius: 0.25em;background-color: #f0f8ff;}#sk-container-id-2 input.sk-toggleable__control:checked~div.sk-toggleable__content {max-height: 200px;max-width: 100%;overflow: auto;}#sk-container-id-2 input.sk-toggleable__control:checked~label.sk-toggleable__label-arrow:before {content: \"▾\";}#sk-container-id-2 div.sk-estimator input.sk-toggleable__control:checked~label.sk-toggleable__label {background-color: #d4ebff;}#sk-container-id-2 div.sk-label input.sk-toggleable__control:checked~label.sk-toggleable__label {background-color: #d4ebff;}#sk-container-id-2 input.sk-hidden--visually {border: 0;clip: rect(1px 1px 1px 1px);clip: rect(1px, 1px, 1px, 1px);height: 1px;margin: -1px;overflow: hidden;padding: 0;position: absolute;width: 1px;}#sk-container-id-2 div.sk-estimator {font-family: monospace;background-color: #f0f8ff;border: 1px dotted black;border-radius: 0.25em;box-sizing: border-box;margin-bottom: 0.5em;}#sk-container-id-2 div.sk-estimator:hover {background-color: #d4ebff;}#sk-container-id-2 div.sk-parallel-item::after {content: \"\";width: 100%;border-bottom: 1px solid gray;flex-grow: 1;}#sk-container-id-2 div.sk-label:hover label.sk-toggleable__label {background-color: #d4ebff;}#sk-container-id-2 div.sk-serial::before {content: \"\";position: absolute;border-left: 1px solid gray;box-sizing: border-box;top: 0;bottom: 0;left: 50%;z-index: 0;}#sk-container-id-2 div.sk-serial {display: flex;flex-direction: column;align-items: center;background-color: white;padding-right: 0.2em;padding-left: 0.2em;position: relative;}#sk-container-id-2 div.sk-item {position: relative;z-index: 1;}#sk-container-id-2 div.sk-parallel {display: flex;align-items: stretch;justify-content: center;background-color: white;position: relative;}#sk-container-id-2 div.sk-item::before, #sk-container-id-2 div.sk-parallel-item::before {content: \"\";position: absolute;border-left: 1px solid gray;box-sizing: border-box;top: 0;bottom: 0;left: 50%;z-index: -1;}#sk-container-id-2 div.sk-parallel-item {display: flex;flex-direction: column;z-index: 1;position: relative;background-color: white;}#sk-container-id-2 div.sk-parallel-item:first-child::after {align-self: flex-end;width: 50%;}#sk-container-id-2 div.sk-parallel-item:last-child::after {align-self: flex-start;width: 50%;}#sk-container-id-2 div.sk-parallel-item:only-child::after {width: 0;}#sk-container-id-2 div.sk-dashed-wrapped {border: 1px dashed gray;margin: 0 0.4em 0.5em 0.4em;box-sizing: border-box;padding-bottom: 0.4em;background-color: white;}#sk-container-id-2 div.sk-label label {font-family: monospace;font-weight: bold;display: inline-block;line-height: 1.2em;}#sk-container-id-2 div.sk-label-container {text-align: center;}#sk-container-id-2 div.sk-container {/* jupyter's `normalize.less` sets `[hidden] { display: none; }` but bootstrap.min.css set `[hidden] { display: none !important; }` so we also need the `!important` here to be able to override the default hidden behavior on the sphinx rendered scikit-learn.org. See: https://github.com/scikit-learn/scikit-learn/issues/21755 */display: inline-block !important;position: relative;}#sk-container-id-2 div.sk-text-repr-fallback {display: none;}</style><div id=\"sk-container-id-2\" class=\"sk-top-container\"><div class=\"sk-text-repr-fallback\"><pre>MLPRegressor(hidden_layer_sizes=(14, 7, 14), random_state=42)</pre><b>In a Jupyter environment, please rerun this cell to show the HTML representation or trust the notebook. <br />On GitHub, the HTML representation is unable to render, please try loading this page with nbviewer.org.</b></div><div class=\"sk-container\" hidden><div class=\"sk-item\"><div class=\"sk-estimator sk-toggleable\"><input class=\"sk-toggleable__control sk-hidden--visually\" id=\"sk-estimator-id-2\" type=\"checkbox\" checked><label for=\"sk-estimator-id-2\" class=\"sk-toggleable__label sk-toggleable__label-arrow\">MLPRegressor</label><div class=\"sk-toggleable__content\"><pre>MLPRegressor(hidden_layer_sizes=(14, 7, 14), random_state=42)</pre></div></div></div></div></div>"
      ],
      "text/plain": [
       "MLPRegressor(hidden_layer_sizes=(14, 7, 14), random_state=42)"
      ]
     },
     "execution_count": 25,
     "metadata": {},
     "output_type": "execute_result"
    }
   ],
   "source": [
    "# Define and train the positive autoencoder on benign data\n",
    "autoencoder_pos = MLPRegressor(hidden_layer_sizes=(14, 7, 14), activation='relu', max_iter=200, random_state=42)\n",
    "autoencoder_pos.fit(X_train_benign, X_train_benign)\n",
    "\n",
    "# Define and train the negative autoencoder on malignant data\n",
    "autoencoder_neg = MLPRegressor(hidden_layer_sizes=(14, 7, 14), activation='relu', max_iter=200, random_state=42)\n",
    "autoencoder_neg.fit(X_train_malignant, X_train_malignant)"
   ]
  },
  {
   "cell_type": "code",
   "execution_count": 26,
   "metadata": {},
   "outputs": [],
   "source": [
    "#get feature-level reconstruction errors for positive and negative autoencoder\n",
    "X_test_pos = autoencoder_pos.predict(X_test)\n",
    "X_test_neg = autoencoder_neg.predict(X_test)\n",
    "\n",
    "\n",
    "# get the patient-level (ie point-level) reconstruction errors (ie the scores)\n",
    "scores_pos = np.mean(np.power(X_test - X_test_pos, 2), axis=1)\n",
    "scores_neg = np.mean(np.power(X_test - X_test_neg, 2), axis=1)\n",
    "\n",
    "\n",
    "#combine the positive and negative scores\n",
    "scores_dual = (scores_pos - scores_neg) / (scores_pos + scores_neg + 1e-8)  \n"
   ]
  },
  {
   "cell_type": "code",
   "execution_count": 27,
   "metadata": {},
   "outputs": [],
   "source": [
    "# Calculate the ROC curve and AUC for the positive model\n",
    "fpr_pos, tpr_pos, _ = roc_curve(y_test, scores_pos)\n",
    "roc_auc_pos = auc(fpr_pos, tpr_pos)\n",
    "\n",
    "# Calculate the ROC curve and AUC for the negative model\n",
    "fpr_neg, tpr_neg, _ = roc_curve(y_test, scores_neg)\n",
    "roc_auc_neg = auc(fpr_neg, tpr_neg)"
   ]
  },
  {
   "cell_type": "code",
   "execution_count": null,
   "metadata": {},
   "outputs": [],
   "source": []
  },
  {
   "cell_type": "code",
   "execution_count": 28,
   "metadata": {},
   "outputs": [
    {
     "ename": "NameError",
     "evalue": "name 'labels_pos' is not defined",
     "output_type": "error",
     "traceback": [
      "\u001b[0;31m---------------------------------------------------------------------------\u001b[0m",
      "\u001b[0;31mNameError\u001b[0m                                 Traceback (most recent call last)",
      "Input \u001b[0;32mIn [28]\u001b[0m, in \u001b[0;36m<cell line: 2>\u001b[0;34m()\u001b[0m\n\u001b[1;32m      1\u001b[0m \u001b[38;5;66;03m# Calculate the ROC curve and AUC for positive model\u001b[39;00m\n\u001b[0;32m----> 2\u001b[0m fpr_pos, tpr_pos, thresholds \u001b[38;5;241m=\u001b[39m roc_curve(\u001b[43mlabels_pos\u001b[49m, errors_pos)\n\u001b[1;32m      3\u001b[0m roc_auc_pos \u001b[38;5;241m=\u001b[39m auc(fpr_pos, tpr_pos)\n\u001b[1;32m      5\u001b[0m \u001b[38;5;66;03m# Calculate the ROC curve and AUC for negative model\u001b[39;00m\n",
      "\u001b[0;31mNameError\u001b[0m: name 'labels_pos' is not defined"
     ]
    }
   ],
   "source": [
    "# Calculate the ROC curve and AUC for positive model\n",
    "fpr_pos, tpr_pos, thresholds = roc_curve(labels_pos, errors_pos)\n",
    "roc_auc_pos = auc(fpr_pos, tpr_pos)\n",
    "\n",
    "# Calculate the ROC curve and AUC for negative model\n",
    "fpr_neg, tpr_neg, thresholds = roc_curve(labels_neg, errors_neg)\n",
    "roc_auc_neg = auc(fpr_neg, tpr_neg)\n",
    "\n",
    "# Plot the ROC curve\n",
    "plt.figure()\n",
    "#add the positive roc curve\n",
    "plt.plot(fpr_pos, tpr_pos, color='darkorange', lw=2, label=f'ROC curve pos model (AUC = {roc_auc_pos:.2f})')\n",
    "#add the negative roc curve \n",
    "plt.plot(fpr_neg, tpr_neg, color='red', lw=2, label=f'ROC curve neg model (AUC = {roc_auc_neg:.2f})')\n",
    "plt.plot([0, 1], [0, 1], color='blue', lw=2, linestyle='--')\n",
    "plt.xlim([0.0, 1.0])\n",
    "plt.ylim([0.0, 1.05])\n",
    "plt.xlabel('False Positive Rate')\n",
    "plt.ylabel('True Positive Rate')\n",
    "plt.title('ROC Curve - Autoencoder Trained on Benign Examples')\n",
    "plt.legend(loc='lower right')\n",
    "plt.show()\n",
    "\n",
    "# Print the AUC score\n",
    "roc_auc_pos"
   ]
  },
  {
   "cell_type": "code",
   "execution_count": null,
   "metadata": {},
   "outputs": [],
   "source": []
  },
  {
   "cell_type": "code",
   "execution_count": null,
   "metadata": {},
   "outputs": [],
   "source": []
  }
 ],
 "metadata": {
  "kernelspec": {
   "display_name": "minenv",
   "language": "python",
   "name": "python3"
  },
  "language_info": {
   "codemirror_mode": {
    "name": "ipython",
    "version": 3
   },
   "file_extension": ".py",
   "mimetype": "text/x-python",
   "name": "python",
   "nbconvert_exporter": "python",
   "pygments_lexer": "ipython3",
   "version": "3.10.4"
  }
 },
 "nbformat": 4,
 "nbformat_minor": 2
}
